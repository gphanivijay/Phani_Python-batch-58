{
 "cells": [
  {
   "cell_type": "code",
   "execution_count": 176,
   "metadata": {},
   "outputs": [
    {
     "name": "stdout",
     "output_type": "stream",
     "text": [
      "Enter total number of people:501\n",
      "Enter number of seats per bus:50\n",
      "Number of buses required is 11\n"
     ]
    }
   ],
   "source": [
    "# Exercise 1 This is to decide how many buses are required\n",
    "a = input(\"Enter total number of people:\")\n",
    "nop = int(a)\n",
    "b = input(\"Enter number of seats per bus:\")\n",
    "nos = int(b)\n",
    "nob = int(nop/nos)\n",
    "x=nop-(nob*nos)\n",
    "if x==0:\n",
    "    print (\"Number of buses required is\", nob)\n",
    "else:\n",
    "    print (\"Number of buses required is\", nob+1)"
   ]
  },
  {
   "cell_type": "code",
   "execution_count": 74,
   "metadata": {},
   "outputs": [
    {
     "name": "stdout",
     "output_type": "stream",
     "text": [
      "Enter temp in farenheat:43.5\n",
      "Fahrenheit of 43.50 is 6.39 in Celsius\n"
     ]
    }
   ],
   "source": [
    "#convertion of Fahrenheit to celsius\n",
    "i = input(\"Enter temp in farenheat:\")\n",
    "fht = float(i)\n",
    "cel = (fht-32)*5/9\n",
    "print (\"Fahrenheit of %.2f is %.2f in Celsius\"% (fht,cel))"
   ]
  },
  {
   "cell_type": "code",
   "execution_count": null,
   "metadata": {},
   "outputs": [],
   "source": [
    "#convertion of celcius to Fahrenheit\n",
    "j = input(\"Enter temp in Celsius:\")\n",
    "cel = float(j)\n",
    "fht = (cel*9/5)+32\n",
    "print (\"Cesius of %d is %d in Fahrenheit\"% (cel,fht))"
   ]
  },
  {
   "cell_type": "code",
   "execution_count": null,
   "metadata": {},
   "outputs": [],
   "source": [
    "#exercise 5 distance conversion\n",
    "d = input(\"Enter distance in Kms:\")\n",
    "kms = float(d)\n",
    "m=kms*1000\n",
    "cm=m*100\n",
    "mm=cm*10\n",
    "inch=cm*2.54\n",
    "print (\"Distance in %f kms is equal to %fmts, %fcms, %fmm and %finch\"% (kms,m,cm,mm,inch))"
   ]
  },
  {
   "cell_type": "code",
   "execution_count": 174,
   "metadata": {},
   "outputs": [
    {
     "name": "stdout",
     "output_type": "stream",
     "text": [
      "Enter the HD size in GB:1000\n",
      "The size of HD in GB=1000, MB=1000000, in kb=100000000, in TB=1.0000 and PB=0.0010\n"
     ]
    }
   ],
   "source": [
    "# exercise 6 show your hd size in different volumes\n",
    "s=input(\"Enter the HD size in GB:\")\n",
    "gb = int(s)\n",
    "mb = gb*1000\n",
    "kb = mb*100\n",
    "tb=gb*0.001\n",
    "pb=gb*10**-6\n",
    "print(\"The size of HD in GB=%d, MB=%d, in kb=%d, in TB=%.4f and PB=%.4f\"%(gb,mb,kb,tb,pb))"
   ]
  },
  {
   "cell_type": "code",
   "execution_count": 73,
   "metadata": {},
   "outputs": [
    {
     "name": "stdout",
     "output_type": "stream",
     "text": [
      "Enter name:asda\n",
      "Enter age:12\n",
      "Enter height:2.4\n",
      "Name:asda, Age=12, Height=2.40\n"
     ]
    }
   ],
   "source": [
    "#exercise 7\n",
    "name=input(\"Enter name:\")\n",
    "a=input(\"Enter age:\")\n",
    "age = int(a)\n",
    "h=input(\"Enter height:\")\n",
    "height=float(h)\n",
    "#print(f\"Name:{name},Age:{age},Height:{height}\")\n",
    "#print(\"Name:\",name,\"Age:\",age,\"Height:\",height,sep=\"\")\n",
    "print (\"Name:%s, Age=%d, Height=%.2f\"%(name,age,height))"
   ]
  },
  {
   "cell_type": "code",
   "execution_count": 7,
   "metadata": {},
   "outputs": [
    {
     "name": "stdout",
     "output_type": "stream",
     "text": [
      "Enter weight in Kgs:68\n",
      "Enter height in meters:1.6\n",
      "26.6\n"
     ]
    }
   ],
   "source": [
    "# exercise 8 BMI calculattion in MI units\n",
    "w=input(\"Enter weight in Kgs:\")\n",
    "wt=float(w)\n",
    "h=input(\"Enter height in meters:\")\n",
    "ht=float(h)\n",
    "BMI=wt/ht**2\n",
    "print (round(BMI,1))"
   ]
  },
  {
   "cell_type": "code",
   "execution_count": 14,
   "metadata": {},
   "outputs": [
    {
     "name": "stdout",
     "output_type": "stream",
     "text": [
      "Name=Jayaram, Age=1.6, ht=3.54, wt=10.34\n"
     ]
    }
   ],
   "source": [
    "# exercise 9\n",
    "name=\"Jayaram\"\n",
    "age=1.6\n",
    "height=3.5356234\n",
    "weight=10.343856783\n",
    "print (\"Name=%s, Age=%.1f, ht=%.2f, wt=%.3f\"%(name,age,height,weight))"
   ]
  },
  {
   "cell_type": "code",
   "execution_count": 145,
   "metadata": {},
   "outputs": [
    {
     "name": "stdout",
     "output_type": "stream",
     "text": [
      "enter name in upper case:PHANI\n",
      "phani\n"
     ]
    }
   ],
   "source": [
    "# exercise 10 convert upper to lower case\n",
    "n=input(\"enter name in upper case:\")\n",
    "print(n.lower())"
   ]
  },
  {
   "cell_type": "code",
   "execution_count": 55,
   "metadata": {},
   "outputs": [
    {
     "ename": "SyntaxError",
     "evalue": "unexpected character after line continuation character (<ipython-input-55-2defa92f6306>, line 2)",
     "output_type": "error",
     "traceback": [
      "\u001b[0;36m  File \u001b[0;32m\"<ipython-input-55-2defa92f6306>\"\u001b[0;36m, line \u001b[0;32m2\u001b[0m\n\u001b[0;31m    print(2\\u00b3)\u001b[0m\n\u001b[0m                  ^\u001b[0m\n\u001b[0;31mSyntaxError\u001b[0m\u001b[0;31m:\u001b[0m unexpected character after line continuation character\n"
     ]
    }
   ],
   "source": [
    "# exercise 11 print exponent \n",
    "print(2\\u00b3)"
   ]
  },
  {
   "cell_type": "code",
   "execution_count": 144,
   "metadata": {},
   "outputs": [
    {
     "name": "stdout",
     "output_type": "stream",
     "text": [
      "Total cost: 124\n",
      "Max cost: 67\n",
      "Min cost: 2\n",
      "avg cost= 31.0\n"
     ]
    }
   ],
   "source": [
    "#simplified exercise 12\n",
    "a=25\n",
    "b=30\n",
    "c=2\n",
    "d=67\n",
    "t=[a,b,c,d]\n",
    "total=sum(t)\n",
    "print (\"Total cost:\",total)\n",
    "print (\"Max cost:\",max(t))\n",
    "print (\"Min cost:\",min(t))\n",
    "print(\"avg cost=\",total/len(t))"
   ]
  },
  {
   "cell_type": "code",
   "execution_count": 68,
   "metadata": {},
   "outputs": [
    {
     "name": "stdout",
     "output_type": "stream",
     "text": [
      "Enter total number of people:400\n",
      "Enter number of buses available:5\n",
      "Enter number of seats per bus:58\n",
      "No of new buses required is 2\n"
     ]
    }
   ],
   "source": [
    "# exercise 13 no. of extra buses required\n",
    "a = input(\"Enter total number of people:\")\n",
    "nop = int(a)\n",
    "c= input (\"Enter number of buses available:\")\n",
    "nob = int(c)\n",
    "b = input(\"Enter number of seats per bus:\")\n",
    "nos = int(b)\n",
    "total_capacity = nob*nos\n",
    "adjust_factor = nop-total_capacity\n",
    "if adjust_factor >= 1:\n",
    "    if adjust_factor%nos == 0:\n",
    "        extra = adjust_factor/nos\n",
    "        print (\"No of extra buses required is %d\"%extra)\n",
    "    else:\n",
    "        extra = (adjust_factor/nos)+1\n",
    "        print (\"No of extra buses required is %d\"%extra)\n",
    "elif adjust_factor <= -1:\n",
    "    x=(total_capacity-nop)/nos\n",
    "    print (\"Extra buses are %d\"%x)\n",
    "else:\n",
    "    print(\"Buses are sufficient\")"
   ]
  },
  {
   "cell_type": "code",
   "execution_count": 31,
   "metadata": {},
   "outputs": [
    {
     "name": "stdout",
     "output_type": "stream",
     "text": [
      "Enter a num:70\n",
      "Even\n"
     ]
    }
   ],
   "source": [
    "# exercise 14. decide if even or odd\n",
    "n=input(\"Enter a num:\")\n",
    "n=int(n)\n",
    "if n%2 == 0:\n",
    "    print (\"Even\")\n",
    "else:\n",
    "    print (\"odd\")"
   ]
  },
  {
   "cell_type": "code",
   "execution_count": 40,
   "metadata": {},
   "outputs": [
    {
     "name": "stdout",
     "output_type": "stream",
     "text": [
      "Enter a num:-0.00\n",
      "+ve\n"
     ]
    }
   ],
   "source": [
    "# exercise 15. find if the given number is +ve or -ve\n",
    "n=input(\"Enter a num:\")\n",
    "n=float(n)\n",
    "if n >= 0:\n",
    "    print (\"+ve\")\n",
    "else:\n",
    "    print (\"-ve\")"
   ]
  },
  {
   "cell_type": "code",
   "execution_count": 143,
   "metadata": {},
   "outputs": [
    {
     "name": "stdout",
     "output_type": "stream",
     "text": [
      "Enter a string:\n",
      "Invalid string\n"
     ]
    }
   ],
   "source": [
    "#exercise 16 print the length of the string and if the user not given anything then show an error message\n",
    "s=input(\"Enter a string:\")\n",
    "if len(s)==0:\n",
    "    print (\"Invalid string\")\n",
    "else:\n",
    "    print (len(s))"
   ]
  },
  {
   "cell_type": "code",
   "execution_count": 59,
   "metadata": {},
   "outputs": [
    {
     "name": "stdout",
     "output_type": "stream",
     "text": [
      "Enter an intiger:8\n",
      "Enter an intiger:0\n",
      "Enter your choice:2\n",
      "8\n"
     ]
    }
   ],
   "source": [
    "# ex17 perform mathematical operations\n",
    "i1= input(\"Enter an intiger:\")\n",
    "i2= input(\"Enter an intiger:\")\n",
    "in1=int(i1)\n",
    "in2=int(i2)\n",
    "\"\"\"\\t1. add\\n\\t2. Sub\\n\\t3. Mul\\n\\t4. Div\\n\\t5. Quit\"\"\"\n",
    "opt= input(\"Enter your choice:\")\n",
    "if opt == \"1\":\n",
    "    t=(in1+in2)\n",
    "    print(t)\n",
    "elif opt == \"2\":\n",
    "    t=(in1-in2)\n",
    "    print(t)\n",
    "elif opt == \"3\":\n",
    "    t=(in1*in2)\n",
    "    print(t)\n",
    "elif opt == \"4\":\n",
    "    t=(in1/in2)\n",
    "    print(t)\n",
    "elif opt == \"5\":\n",
    "    pass"
   ]
  },
  {
   "cell_type": "code",
   "execution_count": 72,
   "metadata": {},
   "outputs": [
    {
     "name": "stdout",
     "output_type": "stream",
     "text": [
      "\t1.Kids \n",
      "\t2.Mens\n",
      "\t3.Womens\n",
      "Enter choice from menu:4\n",
      "Error. Please chose only from menu\n"
     ]
    }
   ],
   "source": [
    "#exercise 18 Show the corresponding message based on the selection. show error message if enters >3.\n",
    "print(\"\\t1.Kids \\n\\t2.Mens\\n\\t3.Womens\")\n",
    "ch=input(\"Enter choice from menu:\")\n",
    "if ch == \"1\":\n",
    "    print (\"Kids\")\n",
    "elif ch == \"2\":\n",
    "    print (\"Mens\")\n",
    "elif ch == \"3\":\n",
    "    print (\"Womens\")\n",
    "else:\n",
    "    print(\"Error. Please chose only between 1-3\")"
   ]
  },
  {
   "cell_type": "code",
   "execution_count": 79,
   "metadata": {},
   "outputs": [
    {
     "name": "stdout",
     "output_type": "stream",
     "text": [
      "True\n"
     ]
    }
   ],
   "source": [
    "# exercise 19 chcek given substring is there in actual string or not?\n",
    "act=\"python is a pure object oriented programing language\"\n",
    "find = \"pure\"\n",
    "print (find in act)"
   ]
  },
  {
   "cell_type": "code",
   "execution_count": 91,
   "metadata": {},
   "outputs": [
    {
     "name": "stdout",
     "output_type": "stream",
     "text": [
      "Enter 3 numbers\n",
      "312\n",
      "23\n",
      "4414\n",
      "The maximun number is: 4414\n"
     ]
    }
   ],
   "source": [
    "#exercise 20 which number is big\n",
    "print(\"Enter 3 numbers\")\n",
    "a1=input()\n",
    "a2=input()\n",
    "a3=input()\n",
    "a1,a2,a3=int(a1),int(a2),int(a3)\n",
    "x=[a1,a2,a3]\n",
    "print (\"The maximun number is:\", max(x))"
   ]
  },
  {
   "cell_type": "code",
   "execution_count": 104,
   "metadata": {},
   "outputs": [
    {
     "name": "stdout",
     "output_type": "stream",
     "text": [
      "Enter gender:x\n",
      "Enter age:32\n",
      "wrong entry\n"
     ]
    }
   ],
   "source": [
    "#exercise 21 decide if a given gender is eligible for marriage in India\n",
    "sex=input(\"Enter gender:\")\n",
    "sex=sex.lower()\n",
    "age=input(\"Enter age:\")\n",
    "age=int(age)\n",
    "if sex == \"male\" or sex == \"m\":\n",
    "    if age >=21:\n",
    "        print (\"This male is eligible\")\n",
    "    else:\n",
    "        print (\"This male is not eligible\")\n",
    "elif sex == \"female\" or sex == \"f\":\n",
    "    if age >=18:\n",
    "        print (\"This female is eligible\")\n",
    "    else:\n",
    "        print (\"This female is not eligible\")\n",
    "else:\n",
    "    print (\"wrong entry\")"
   ]
  },
  {
   "cell_type": "code",
   "execution_count": 173,
   "metadata": {},
   "outputs": [
    {
     "name": "stdout",
     "output_type": "stream",
     "text": [
      "Enter gender:f\n",
      "Enter age:35\n",
      "Eligible for:\n",
      "1.Cinema\n",
      "2.voting\n",
      "3.Driving\n",
      "4.Marriage\n"
     ]
    }
   ],
   "source": [
    "#exercise 22 eligibility of genders\n",
    "sex=input(\"Enter gender:\")\n",
    "sex=sex.lower()\n",
    "age=input(\"Enter age:\")\n",
    "age=int(age)\n",
    "if sex == \"male\" or sex == \"m\":\n",
    "    if age >= 5:\n",
    "        if age >=18:\n",
    "            if age >=23:\n",
    "                if age >=33:\n",
    "                    if age >=61:\n",
    "                        print(\"Eligible for:\\n1.Cinema\\n2.voting\\n3.Driving\\n4.Marrriage\")\n",
    "                    else:\n",
    "                        print(\"Eligible for:\\n1.Cinema\\n2.voting\\n3.Driving\\n4.Marriage\")\n",
    "                else:\n",
    "                    print(\"Eligible for:\\n1.Cinema\\n2.voting\\n3.Driving\\n4.Job\\n5.Marriage\")\n",
    "            else:\n",
    "                print(\"Eligible for:\\n1.Cinema\\n2.voting\\n3.Driving\\n4.Job\")\n",
    "        else:\n",
    "            print(\"Eligible for:\\n1.Cinema\")\n",
    "    else:\n",
    "        print(\"Eligible for:\\n1.Cinema\")\n",
    "elif sex == \"female\" or sex == \"f\":\n",
    "    if age >= 7:\n",
    "        if age >=18:\n",
    "            if age >=21:\n",
    "                if age >=34:\n",
    "                    if age >=61:\n",
    "                        print(\"Eligible for:\\n1.Cinema\\n2.voting\\n3.Driving\\n4.Marrriage\")\n",
    "                    else:\n",
    "                        print(\"Eligible for:\\n1.Cinema\\n2.voting\\n3.Driving\\n4.Marriage\")\n",
    "                else:\n",
    "                    print(\"Eligible for:\\n1.Cinema\\n2.voting\\n3.Driving\\n4.Job\\n5.Marriage\")\n",
    "            else:\n",
    "                print(\"Eligible for:\\n1.Cinema\\n2.voting\\n3.Driving\\n4.Job\")\n",
    "        else:\n",
    "            print(\"Eligible for:\\n1.Cinema\")\n",
    "    else:\n",
    "        print(\"Eligible for:\\n1.Cinema\")\n"
   ]
  },
  {
   "cell_type": "code",
   "execution_count": 172,
   "metadata": {},
   "outputs": [
    {
     "name": "stdout",
     "output_type": "stream",
     "text": [
      "\t1.windows\n",
      "\t2.android\n",
      "\t3.mac\n",
      "Enter a number:4\n",
      "There are only three floors, please select 1 or 2 or 3\n",
      "Enter a number:2\n",
      "Goto second floor and buy adroid mobiles\n"
     ]
    }
   ],
   "source": [
    "# exercise 23 operating systems selection\n",
    "\n",
    "print (\"\\t1.windows\\n\\t2.android\\n\\t3.mac\")\n",
    "i=0\n",
    "while i<=0:\n",
    "    a=input(\"Enter a number:\")\n",
    "    if a == \"1\":\n",
    "        i=i+1\n",
    "        print(\"Goto first floor and buy windows laptop or mobile\")\n",
    "    elif a == \"2\":\n",
    "        i=i+1\n",
    "        print(\"Goto second floor and buy adroid mobiles\")\n",
    "    elif a == \"3\":\n",
    "        i=i+1\n",
    "        print(\"Goto third floor and buy mac laptop or iphones\")\n",
    "    else:\n",
    "        print(\"There are only three floors, please select 1 or 2 or 3\")"
   ]
  },
  {
   "cell_type": "code",
   "execution_count": 136,
   "metadata": {},
   "outputs": [
    {
     "name": "stdout",
     "output_type": "stream",
     "text": [
      "Enter age in years:55\n",
      "Adult\n"
     ]
    }
   ],
   "source": [
    "#exercise 24 find age group\n",
    "age=input(\"Enter age in years:\")\n",
    "age=round (float(age),2)\n",
    "if age <1:\n",
    "    print(\"baby\")\n",
    "elif age in range(1,4):\n",
    "    print(\"todler\")\n",
    "elif age in range(4,13):\n",
    "    print(\"child\")\n",
    "elif age in range(13,19):\n",
    "    print(\"teenager\")\n",
    "elif age in range(19,56):\n",
    "    print(\"Adult\")\n",
    "elif age >55:\n",
    "    print(\"Older adult\")"
   ]
  },
  {
   "cell_type": "code",
   "execution_count": 142,
   "metadata": {},
   "outputs": [
    {
     "name": "stdout",
     "output_type": "stream",
     "text": [
      "give two numbers\n",
      "First num10\n",
      "Second num100\n",
      "a is not divisible by B\n"
     ]
    }
   ],
   "source": [
    "# exercise 24 a number divisible by b\n",
    "print (\"give two numbers\")\n",
    "a=input(\"First num\")\n",
    "b=input(\"Second num\")\n",
    "a=int(a)\n",
    "b=int(b)\n",
    "if a%b==0:\n",
    "    print (\"a is divisible by B\")\n",
    "else:\n",
    "    print (\"a is not divisible by B\")"
   ]
  }
 ],
 "metadata": {
  "kernelspec": {
   "display_name": "Python 3",
   "language": "python",
   "name": "python3"
  },
  "language_info": {
   "codemirror_mode": {
    "name": "ipython",
    "version": 3
   },
   "file_extension": ".py",
   "mimetype": "text/x-python",
   "name": "python",
   "nbconvert_exporter": "python",
   "pygments_lexer": "ipython3",
   "version": "3.6.4"
  }
 },
 "nbformat": 4,
 "nbformat_minor": 2
}
